{
 "cells": [
  {
   "cell_type": "code",
   "execution_count": 1,
   "metadata": {},
   "outputs": [],
   "source": [
    "import os"
   ]
  },
  {
   "cell_type": "code",
   "execution_count": 2,
   "metadata": {},
   "outputs": [
    {
     "name": "stderr",
     "output_type": "stream",
     "text": [
      "/home/yasiru/anaconda3/lib/python3.12/site-packages/deepeval/__init__.py:53: UserWarning: You are using deepeval version 2.4.8, however version 2.5.2 is available. You should consider upgrading via the \"pip install --upgrade deepeval\" command.\n",
      "  warnings.warn(\n"
     ]
    }
   ],
   "source": [
    "import pandas as pd\n",
    "from deepeval.test_case import LLMTestCase\n",
    "from deepeval.metrics import HallucinationMetric\n",
    "from deepeval import evaluate\n",
    "from deepeval.metrics import HallucinationMetric\n",
    "from deepeval.test_case import LLMTestCase\n",
    "\n",
    "from deepeval.metrics import GEval\n",
    "from deepeval.test_case import LLMTestCaseParams"
   ]
  },
  {
   "cell_type": "code",
   "execution_count": 3,
   "metadata": {},
   "outputs": [],
   "source": [
    "os.environ[\"OPENAI_API_KEY\"] = (\n",
    "    \"\"#add your OpenAI API Key\n",
    ")"
   ]
  },
  {
   "cell_type": "code",
   "execution_count": null,
   "metadata": {},
   "outputs": [
    {
     "name": "stdout",
     "output_type": "stream",
     "text": [
      "Event loop is already running. Applying nest_asyncio patch to allow async execution...\n",
      "Event loop is already running. Applying nest_asyncio patch to allow async execution...\n",
      "Event loop is already running. Applying nest_asyncio patch to allow async execution...\n",
      "Event loop is already running. Applying nest_asyncio patch to allow async execution...\n",
      "Event loop is already running. Applying nest_asyncio patch to allow async execution...\n",
      "Event loop is already running. Applying nest_asyncio patch to allow async execution...\n",
      "Event loop is already running. Applying nest_asyncio patch to allow async execution...\n",
      "Event loop is already running. Applying nest_asyncio patch to allow async execution...\n",
      "Event loop is already running. Applying nest_asyncio patch to allow async execution...\n",
      "Event loop is already running. Applying nest_asyncio patch to allow async execution...\n",
      "Event loop is already running. Applying nest_asyncio patch to allow async execution...\n",
      "Event loop is already running. Applying nest_asyncio patch to allow async execution...\n",
      "Event loop is already running. Applying nest_asyncio patch to allow async execution...\n",
      "Event loop is already running. Applying nest_asyncio patch to allow async execution...\n",
      "Event loop is already running. Applying nest_asyncio patch to allow async execution...\n",
      "Event loop is already running. Applying nest_asyncio patch to allow async execution...\n",
      "Event loop is already running. Applying nest_asyncio patch to allow async execution...\n",
      "Event loop is already running. Applying nest_asyncio patch to allow async execution...\n",
      "Event loop is already running. Applying nest_asyncio patch to allow async execution...\n",
      "Event loop is already running. Applying nest_asyncio patch to allow async execution...\n",
      "Event loop is already running. Applying nest_asyncio patch to allow async execution...\n",
      "Event loop is already running. Applying nest_asyncio patch to allow async execution...\n",
      "Event loop is already running. Applying nest_asyncio patch to allow async execution...\n",
      "Event loop is already running. Applying nest_asyncio patch to allow async execution...\n",
      "Event loop is already running. Applying nest_asyncio patch to allow async execution...\n",
      "Event loop is already running. Applying nest_asyncio patch to allow async execution...\n",
      "Event loop is already running. Applying nest_asyncio patch to allow async execution...\n",
      "Event loop is already running. Applying nest_asyncio patch to allow async execution...\n",
      "Event loop is already running. Applying nest_asyncio patch to allow async execution...\n",
      "Event loop is already running. Applying nest_asyncio patch to allow async execution...\n",
      "Event loop is already running. Applying nest_asyncio patch to allow async execution...\n",
      "Event loop is already running. Applying nest_asyncio patch to allow async execution...\n",
      "Event loop is already running. Applying nest_asyncio patch to allow async execution...\n",
      "Event loop is already running. Applying nest_asyncio patch to allow async execution...\n",
      "Event loop is already running. Applying nest_asyncio patch to allow async execution...\n",
      "Event loop is already running. Applying nest_asyncio patch to allow async execution...\n",
      "Event loop is already running. Applying nest_asyncio patch to allow async execution...\n",
      "Event loop is already running. Applying nest_asyncio patch to allow async execution...\n",
      "Event loop is already running. Applying nest_asyncio patch to allow async execution...\n",
      "Event loop is already running. Applying nest_asyncio patch to allow async execution...\n",
      "Event loop is already running. Applying nest_asyncio patch to allow async execution...\n",
      "Event loop is already running. Applying nest_asyncio patch to allow async execution...\n",
      "Event loop is already running. Applying nest_asyncio patch to allow async execution...\n",
      "Event loop is already running. Applying nest_asyncio patch to allow async execution...\n",
      "Event loop is already running. Applying nest_asyncio patch to allow async execution...\n",
      "Event loop is already running. Applying nest_asyncio patch to allow async execution...\n",
      "Event loop is already running. Applying nest_asyncio patch to allow async execution...\n",
      "Event loop is already running. Applying nest_asyncio patch to allow async execution...\n",
      "Event loop is already running. Applying nest_asyncio patch to allow async execution...\n",
      "Event loop is already running. Applying nest_asyncio patch to allow async execution...\n",
      "Event loop is already running. Applying nest_asyncio patch to allow async execution...\n",
      "Event loop is already running. Applying nest_asyncio patch to allow async execution...\n",
      "Event loop is already running. Applying nest_asyncio patch to allow async execution...\n",
      "Event loop is already running. Applying nest_asyncio patch to allow async execution...\n",
      "Event loop is already running. Applying nest_asyncio patch to allow async execution...\n",
      "Event loop is already running. Applying nest_asyncio patch to allow async execution...\n",
      "Event loop is already running. Applying nest_asyncio patch to allow async execution...\n",
      "Event loop is already running. Applying nest_asyncio patch to allow async execution...\n",
      "Event loop is already running. Applying nest_asyncio patch to allow async execution...\n",
      "Event loop is already running. Applying nest_asyncio patch to allow async execution...\n",
      "Event loop is already running. Applying nest_asyncio patch to allow async execution...\n",
      "Event loop is already running. Applying nest_asyncio patch to allow async execution...\n",
      "Event loop is already running. Applying nest_asyncio patch to allow async execution...\n",
      "Event loop is already running. Applying nest_asyncio patch to allow async execution...\n",
      "Event loop is already running. Applying nest_asyncio patch to allow async execution...\n",
      "Event loop is already running. Applying nest_asyncio patch to allow async execution...\n",
      "Event loop is already running. Applying nest_asyncio patch to allow async execution...\n",
      "Event loop is already running. Applying nest_asyncio patch to allow async execution...\n",
      "Event loop is already running. Applying nest_asyncio patch to allow async execution...\n",
      "Event loop is already running. Applying nest_asyncio patch to allow async execution...\n",
      "Event loop is already running. Applying nest_asyncio patch to allow async execution...\n",
      "Event loop is already running. Applying nest_asyncio patch to allow async execution...\n",
      "Event loop is already running. Applying nest_asyncio patch to allow async execution...\n",
      "Event loop is already running. Applying nest_asyncio patch to allow async execution...\n",
      "Event loop is already running. Applying nest_asyncio patch to allow async execution...\n",
      "Event loop is already running. Applying nest_asyncio patch to allow async execution...\n",
      "Event loop is already running. Applying nest_asyncio patch to allow async execution...\n",
      "Event loop is already running. Applying nest_asyncio patch to allow async execution...\n",
      "Event loop is already running. Applying nest_asyncio patch to allow async execution...\n",
      "Event loop is already running. Applying nest_asyncio patch to allow async execution...\n",
      "Event loop is already running. Applying nest_asyncio patch to allow async execution...\n",
      "Event loop is already running. Applying nest_asyncio patch to allow async execution...\n",
      "Event loop is already running. Applying nest_asyncio patch to allow async execution...\n",
      "Event loop is already running. Applying nest_asyncio patch to allow async execution...\n",
      "Event loop is already running. Applying nest_asyncio patch to allow async execution...\n",
      "Event loop is already running. Applying nest_asyncio patch to allow async execution...\n",
      "Event loop is already running. Applying nest_asyncio patch to allow async execution...\n",
      "Event loop is already running. Applying nest_asyncio patch to allow async execution...\n",
      "Event loop is already running. Applying nest_asyncio patch to allow async execution...\n",
      "Event loop is already running. Applying nest_asyncio patch to allow async execution...\n",
      "Event loop is already running. Applying nest_asyncio patch to allow async execution...\n",
      "Event loop is already running. Applying nest_asyncio patch to allow async execution...\n",
      "Event loop is already running. Applying nest_asyncio patch to allow async execution...\n",
      "Event loop is already running. Applying nest_asyncio patch to allow async execution...\n",
      "Event loop is already running. Applying nest_asyncio patch to allow async execution...\n",
      "Event loop is already running. Applying nest_asyncio patch to allow async execution...\n",
      "Event loop is already running. Applying nest_asyncio patch to allow async execution...\n",
      "Event loop is already running. Applying nest_asyncio patch to allow async execution...\n",
      "Event loop is already running. Applying nest_asyncio patch to allow async execution...\n",
      "Event loop is already running. Applying nest_asyncio patch to allow async execution...\n",
      "Event loop is already running. Applying nest_asyncio patch to allow async execution...\n",
      "Event loop is already running. Applying nest_asyncio patch to allow async execution...\n",
      "Event loop is already running. Applying nest_asyncio patch to allow async execution...\n",
      "Event loop is already running. Applying nest_asyncio patch to allow async execution...\n",
      "Event loop is already running. Applying nest_asyncio patch to allow async execution...\n",
      "Event loop is already running. Applying nest_asyncio patch to allow async execution...\n",
      "Event loop is already running. Applying nest_asyncio patch to allow async execution...\n",
      "Event loop is already running. Applying nest_asyncio patch to allow async execution...\n",
      "Event loop is already running. Applying nest_asyncio patch to allow async execution...\n",
      "Event loop is already running. Applying nest_asyncio patch to allow async execution...\n",
      "Event loop is already running. Applying nest_asyncio patch to allow async execution...\n",
      "Event loop is already running. Applying nest_asyncio patch to allow async execution...\n",
      "Event loop is already running. Applying nest_asyncio patch to allow async execution...\n",
      "Event loop is already running. Applying nest_asyncio patch to allow async execution...\n",
      "Event loop is already running. Applying nest_asyncio patch to allow async execution...\n"
     ]
    }
   ],
   "source": [
    "import json\n",
    "import pandas as pd\n",
    "from deepeval.metrics import GEval\n",
    "from deepeval.test_case import LLMTestCase\n",
    "\n",
    "# File paths\n",
    "input_json_path = \"/home/yasiru/Task 3/eval_results_cleaned.json\"\n",
    "\n",
    "# Load JSON file\n",
    "with open(input_json_path, \"r\", encoding=\"utf-8\") as file:\n",
    "    data = json.load(file)\n",
    "\n",
    "# Define correctness metric with new criteria\n",
    "correctness_metric = GEval(\n",
    "    name=\"Correctness\",\n",
    "    criteria=(\n",
    "        \"Check if the 'Answer' (expected output) conveys the same meaning as the 'Generated_Response'. \"\n",
    "        \"Do NOT penalize for minor wording differences. However, penalize if the response is misleading, fake, or contradicts the expected answer.\"\n",
    "        \"Explain why the response is correct or incorrect in detail.\"\n",
    "    ),\n",
    "    model=\"gpt-4o\",\n",
    "    evaluation_params=[\n",
    "        LLMTestCaseParams.INPUT,\n",
    "        LLMTestCaseParams.ACTUAL_OUTPUT,\n",
    "        LLMTestCaseParams.EXPECTED_OUTPUT\n",
    "    ]\n",
    ")\n",
    "\n",
    "def evaluate_llm_responses(data):\n",
    "    results = []\n",
    "\n",
    "    for item in data:\n",
    "        instruction = item.get(\"Instruction\", \"None\")\n",
    "        expected_response = item.get(\"Answer\", \"None\")\n",
    "        actual_response = item.get(\"Generated_Response\", \"None\")\n",
    "\n",
    "        # Create LLMTestCase\n",
    "        test_case = LLMTestCase(\n",
    "            input=instruction,\n",
    "            actual_output=actual_response,\n",
    "            expected_output=expected_response\n",
    "        )\n",
    "\n",
    "        # Evaluate correctness\n",
    "        correctness_metric.measure(test_case, _show_indicator=False)\n",
    "\n",
    "        # Store results\n",
    "        results.append({\n",
    "            \"Instruction\": instruction,\n",
    "            \"Expected Response\": expected_response,\n",
    "            \"Correctness Score\": correctness_metric.score,\n",
    "        })\n",
    "\n",
    "    # Convert to DataFrame\n",
    "    results_df = pd.DataFrame(results)\n",
    "    return results_df\n",
    "\n",
    "# Run the evaluation\n",
    "results_df = evaluate_llm_responses(data)\n",
    "\n",
    "\n"
   ]
  },
  {
   "cell_type": "code",
   "execution_count": 5,
   "metadata": {},
   "outputs": [
    {
     "name": "stdout",
     "output_type": "stream",
     "text": [
      "                                           Instruction  \\\n",
      "0    What is the rule-based RM used to generate que...   \n",
      "1                What are the requests generated from?   \n",
      "2    What does DeepSeek-R1-Zero generate questions ...   \n",
      "3    What is the name of the book that was publishe...   \n",
      "4            What is the purpose of the daily unlocks?   \n",
      "..                                                 ...   \n",
      "110  What are the questions that you can ask from t...   \n",
      "111                What are the MTP modules discarded?   \n",
      "112  What do applications use to create lightweight...   \n",
      "113  What is the name of the question that can be g...   \n",
      "114  What does the service iterate the local chunk ...   \n",
      "\n",
      "                                     Expected Response  Correctness Score  \n",
      "0                                       specific rules           0.859437  \n",
      "1                                              batches           0.866188  \n",
      "2      reasoning process, followed by the final answer           0.815332  \n",
      "3                                               Nature           0.714643  \n",
      "4    every line shared becomes collective momentum ...           0.843725  \n",
      "..                                                 ...                ...  \n",
      "110                             supervised fine-tuning           0.733832  \n",
      "111                           one token per prediction           0.763516  \n",
      "112                            symbolic and hard links           0.802601  \n",
      "113                             acknowledgment message           0.716554  \n",
      "114                                            the ids           1.583120  \n",
      "\n",
      "[115 rows x 3 columns]\n"
     ]
    }
   ],
   "source": [
    "print(results_df)"
   ]
  },
  {
   "cell_type": "code",
   "execution_count": 6,
   "metadata": {},
   "outputs": [
    {
     "data": {
      "application/vnd.microsoft.datawrangler.viewer.v0+json": {
       "columns": [
        {
         "name": "index",
         "rawType": "int64",
         "type": "integer"
        },
        {
         "name": "Instruction",
         "rawType": "object",
         "type": "string"
        },
        {
         "name": "Expected Response",
         "rawType": "object",
         "type": "string"
        },
        {
         "name": "Correctness Score",
         "rawType": "float64",
         "type": "float"
        }
       ],
       "conversionMethod": "pd.DataFrame",
       "ref": "a564e5fe-9f89-483b-bbe4-0ae1c9588fca",
       "rows": [
        [
         "0",
         "What is the rule-based RM used to generate questions from?",
         "specific rules",
         "0.8594371954525061"
        ],
        [
         "1",
         "What are the requests generated from?",
         "batches",
         "0.8661881223502761"
        ],
        [
         "2",
         "What does DeepSeek-R1-Zero generate questions from?",
         "reasoning process, followed by the final answer",
         "0.815331794412979"
        ],
        [
         "3",
         "What is the name of the book that was published in 2022?",
         "Nature",
         "0.7146427367275663"
        ],
        [
         "4",
         "What is the purpose of the daily unlocks?",
         "every line shared becomes collective momentum that accelerates the journey",
         "0.8437254559710575"
        ],
        [
         "5",
         "What is the name of the version of Deepseek-prover?",
         "v1.5",
         "0.8007898680172109"
        ],
        [
         "6",
         "What are the most common questions that can be asked from LLMs?",
         "Large Language Models",
         "0.7156535978388704"
        ],
        [
         "7",
         "What is the name of the service that exits when a storage service exits?",
         "Data recovery",
         "0.7310210061945667"
        ],
        [
         "8",
         "What can researchers use to create their own models?",
         "DeekSeek models",
         "0.7240245154563858"
        ],
        [
         "9",
         "What is the state of the predecessor copied to the returning service?",
         "The full",
         "0.8731773601397188"
        ],
        [
         "10",
         "What does DeepSeek-R1 demonstrate superior performance against?",
         "DeepSeek-V3",
         "0.7366748877947223"
        ],
        [
         "11",
         "What is the CRAQ write-all-read-any approach?",
         "helps to unleash the throughput",
         "0.7141436209929193"
        ],
        [
         "12",
         "What is the name of the book that is based on the agentless method?",
         "arXiv preprint",
         "0.7170875876375195"
        ],
        [
         "13",
         "What will open-source 5 repos starting this week?",
         "Feb 24, 2025",
         "0.712345"
        ],
        [
         "14",
         "What are the version numbers of pending versions?",
         "<code>v</code>",
         "0.7465985091639817"
        ],
        [
         "15",
         "What is the name of the method that DeepSeek invented to reduce bubble?",
         "bubble",
         "0.7240108204560609"
        ],
        [
         "16",
         "What are the main questions that can be generated from the 3FS system?",
         "cluster manager, metadata service, storage service and client",
         "0.9005438648759063"
        ],
        [
         "17",
         "What did OpenAI generate?",
         "inference-time scaling",
         "0.7435834367007237"
        ],
        [
         "18",
         "What is the most powerful aspect of reinforcement learning?",
         "beauty",
         "0.7199308186289004"
        ],
        [
         "19",
         "What is the first open research to validate that reasoning capabilities of LLMs can be incen",
         "RL",
         "0.7502607162250898"
        ],
        [
         "20",
         "What would be a big burden on meta service and FoundationDB?",
         "Storing all file descriptors",
         "0.8467889272129835"
        ],
        [
         "21",
         "What is the most common question that researchers can ask?",
         "test-time scaling",
         "0.7165537725212197"
        ],
        [
         "22",
         "What is the HumanEval-Mul dataset?",
         "eight mainstream programming languages",
         "0.7243064238734033"
        ],
        [
         "23",
         "What are the meta services that cluster manager provides?",
         "online",
         "0.7249843725759892"
        ],
        [
         "24",
         "What are the IOPS of removing ops from garbage collection?",
         "The bottom figure",
         "0.812345"
        ],
        [
         "25",
         "What are the two techniques to prevent quantization error?",
         "visualized in following figure",
         "0.7149407357480363"
        ],
        [
         "26",
         "What are the questions that you can generate from?",
         "specified instructions",
         "0.7802383887374321"
        ],
        [
         "27",
         "What is the 32B base model?",
         "14  Model AIME 2024",
         "0.7134436944097988"
        ],
        [
         "28",
         "What did the test cluster generate?",
         "25 storage nodes",
         "0.7135881649538283"
        ],
        [
         "29",
         "Generate questions from: All entries within a directory naturally form a contiguous key range",
         "range queries",
         "0.8701862937426108"
        ],
        [
         "30",
         "What can be generated from the request?",
         "latest chain table",
         "0.7143782354604125"
        ],
        [
         "31",
         "What does the Asynchronous zero-copy API generate?",
         "file system client",
         "0.9001437173153686"
        ],
        [
         "32",
         "What is the name of the preprint of arXiv?",
         "Appendix A",
         "0.7160776887745719"
        ],
        [
         "33",
         "What is the DeepSeek-R1-Zero training program?",
         "a steady and consistent enhancement in performance",
         "0.7183536649753227"
        ],
        [
         "34",
         "What are the base models we use?",
         "Qwen2.5-Math-1.5B",
         "0.734348106060793"
        ],
        [
         "35",
         "What can the client generate?",
         "chunk IDs and chains",
         "0.9212067497376804"
        ],
        [
         "36",
         "What is the name of the preprint of arXiv?",
         "arXiv:2402.03300, 2024",
         "0.7727377206005387"
        ],
        [
         "37",
         "Who is the Jin 20 Ruyi Chen Shanghao Lu Shangyan Zhou",
         "Jin 20  Ruyi Chen Shanghao Lu Shangyan",
         "0.7386188765383747"
        ],
        [
         "38",
         "What is the main feature of DeepSeek-R1-Zero?",
         "poor readability, and language mixing",
         "0.7349667744484949"
        ],
        [
         "39",
         "What is the name of the model that can be used to help us learn?",
         "DeepSeek-R1",
         "0.716553772896695"
        ],
        [
         "40",
         "What do we want to generate questions from?",
         "fine-tuned model",
         "0.7610225997184288"
        ],
        [
         "41",
         "What will DeepSeek-R1 help the research community to distill better smaller models?",
         "open source",
         "0.79658392724232"
        ],
        [
         "42",
         "What did DeepSeek generate one additional token?",
         "computational cost",
         "0.7264603685649046"
        ],
        [
         "43",
         "DeepSeek-R1 is able to write tasks and open-domain question answering.",
         "AlpacaEval2.0 and ArenaHard",
         "0.7264603689338534"
        ],
        [
         "44",
         "What temperature is used to generate k responses for each question?",
         "sampling temperature of 0.6 and a top-𝑝value of 0.95",
         "0.9230193444401715"
        ],
        [
         "45",
         "What is the reference model for Llama 3.1?",
         "405B parameters, 15 T tokens",
         "0.7249843717118213"
        ],
        [
         "46",
         "What is the PRM?",
         "Process Reward Model",
         "0.7206220855172412"
        ],
        [
         "47",
         "What are the most remarkable aspects of self-evolution?",
         "the emergence of sophisticated behaviors",
         "0.9440467552533408"
        ],
        [
         "48",
         "What is the name of the test?",
         "DeepSeek-R1-Distill-Qwen",
         "1.199748265671592"
        ],
        [
         "49",
         "What is the base model of DeepSeek?",
         "Reinforcement Learning on the Base Model",
         "0.7704576510031669"
        ]
       ],
       "shape": {
        "columns": 3,
        "rows": 115
       }
      },
      "text/html": [
       "<div>\n",
       "<style scoped>\n",
       "    .dataframe tbody tr th:only-of-type {\n",
       "        vertical-align: middle;\n",
       "    }\n",
       "\n",
       "    .dataframe tbody tr th {\n",
       "        vertical-align: top;\n",
       "    }\n",
       "\n",
       "    .dataframe thead th {\n",
       "        text-align: right;\n",
       "    }\n",
       "</style>\n",
       "<table border=\"1\" class=\"dataframe\">\n",
       "  <thead>\n",
       "    <tr style=\"text-align: right;\">\n",
       "      <th></th>\n",
       "      <th>Instruction</th>\n",
       "      <th>Expected Response</th>\n",
       "      <th>Correctness Score</th>\n",
       "    </tr>\n",
       "  </thead>\n",
       "  <tbody>\n",
       "    <tr>\n",
       "      <th>0</th>\n",
       "      <td>What is the rule-based RM used to generate que...</td>\n",
       "      <td>specific rules</td>\n",
       "      <td>0.859437</td>\n",
       "    </tr>\n",
       "    <tr>\n",
       "      <th>1</th>\n",
       "      <td>What are the requests generated from?</td>\n",
       "      <td>batches</td>\n",
       "      <td>0.866188</td>\n",
       "    </tr>\n",
       "    <tr>\n",
       "      <th>2</th>\n",
       "      <td>What does DeepSeek-R1-Zero generate questions ...</td>\n",
       "      <td>reasoning process, followed by the final answer</td>\n",
       "      <td>0.815332</td>\n",
       "    </tr>\n",
       "    <tr>\n",
       "      <th>3</th>\n",
       "      <td>What is the name of the book that was publishe...</td>\n",
       "      <td>Nature</td>\n",
       "      <td>0.714643</td>\n",
       "    </tr>\n",
       "    <tr>\n",
       "      <th>4</th>\n",
       "      <td>What is the purpose of the daily unlocks?</td>\n",
       "      <td>every line shared becomes collective momentum ...</td>\n",
       "      <td>0.843725</td>\n",
       "    </tr>\n",
       "    <tr>\n",
       "      <th>...</th>\n",
       "      <td>...</td>\n",
       "      <td>...</td>\n",
       "      <td>...</td>\n",
       "    </tr>\n",
       "    <tr>\n",
       "      <th>110</th>\n",
       "      <td>What are the questions that you can ask from t...</td>\n",
       "      <td>supervised fine-tuning</td>\n",
       "      <td>0.733832</td>\n",
       "    </tr>\n",
       "    <tr>\n",
       "      <th>111</th>\n",
       "      <td>What are the MTP modules discarded?</td>\n",
       "      <td>one token per prediction</td>\n",
       "      <td>0.763516</td>\n",
       "    </tr>\n",
       "    <tr>\n",
       "      <th>112</th>\n",
       "      <td>What do applications use to create lightweight...</td>\n",
       "      <td>symbolic and hard links</td>\n",
       "      <td>0.802601</td>\n",
       "    </tr>\n",
       "    <tr>\n",
       "      <th>113</th>\n",
       "      <td>What is the name of the question that can be g...</td>\n",
       "      <td>acknowledgment message</td>\n",
       "      <td>0.716554</td>\n",
       "    </tr>\n",
       "    <tr>\n",
       "      <th>114</th>\n",
       "      <td>What does the service iterate the local chunk ...</td>\n",
       "      <td>the ids</td>\n",
       "      <td>1.583120</td>\n",
       "    </tr>\n",
       "  </tbody>\n",
       "</table>\n",
       "<p>115 rows × 3 columns</p>\n",
       "</div>"
      ],
      "text/plain": [
       "                                           Instruction  \\\n",
       "0    What is the rule-based RM used to generate que...   \n",
       "1                What are the requests generated from?   \n",
       "2    What does DeepSeek-R1-Zero generate questions ...   \n",
       "3    What is the name of the book that was publishe...   \n",
       "4            What is the purpose of the daily unlocks?   \n",
       "..                                                 ...   \n",
       "110  What are the questions that you can ask from t...   \n",
       "111                What are the MTP modules discarded?   \n",
       "112  What do applications use to create lightweight...   \n",
       "113  What is the name of the question that can be g...   \n",
       "114  What does the service iterate the local chunk ...   \n",
       "\n",
       "                                     Expected Response  Correctness Score  \n",
       "0                                       specific rules           0.859437  \n",
       "1                                              batches           0.866188  \n",
       "2      reasoning process, followed by the final answer           0.815332  \n",
       "3                                               Nature           0.714643  \n",
       "4    every line shared becomes collective momentum ...           0.843725  \n",
       "..                                                 ...                ...  \n",
       "110                             supervised fine-tuning           0.733832  \n",
       "111                           one token per prediction           0.763516  \n",
       "112                            symbolic and hard links           0.802601  \n",
       "113                             acknowledgment message           0.716554  \n",
       "114                                            the ids           1.583120  \n",
       "\n",
       "[115 rows x 3 columns]"
      ]
     },
     "execution_count": 6,
     "metadata": {},
     "output_type": "execute_result"
    }
   ],
   "source": [
    "results_df"
   ]
  }
 ],
 "metadata": {
  "kernelspec": {
   "display_name": "base",
   "language": "python",
   "name": "python3"
  },
  "language_info": {
   "codemirror_mode": {
    "name": "ipython",
    "version": 3
   },
   "file_extension": ".py",
   "mimetype": "text/x-python",
   "name": "python",
   "nbconvert_exporter": "python",
   "pygments_lexer": "ipython3",
   "version": "3.12.7"
  }
 },
 "nbformat": 4,
 "nbformat_minor": 2
}
